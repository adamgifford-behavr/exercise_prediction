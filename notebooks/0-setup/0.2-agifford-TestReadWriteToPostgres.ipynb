{
 "cells": [
  {
   "cell_type": "markdown",
   "metadata": {},
   "source": [
    "# 0.2-agifford-TestReadWriteToPostgres\n",
    "This notebook tests reading and writing to a postgres database and templates out functions and methods to formalize the process for creating features datasets."
   ]
  },
  {
   "cell_type": "code",
   "execution_count": null,
   "metadata": {},
   "outputs": [],
   "source": [
    "from dotenv import find_dotenv, load_dotenv\n",
    "import sqlalchemy as sa\n",
    "from sqlalchemy.ext.declarative import declarative_base\n",
    "from sqlalchemy import Column, Integer, String, DateTime, Float\n",
    "from sqlalchemy.orm import sessionmaker\n",
    "\n",
    "import pandas as pd\n",
    "import numpy as np\n",
    "import os\n",
    "import json\n",
    "load_dotenv(find_dotenv())"
   ]
  },
  {
   "cell_type": "code",
   "execution_count": null,
   "metadata": {},
   "outputs": [],
   "source": [
    "FEATURE_STORE_HOST = os.getenv(\"FEATURE_STORE_URI\", \"localhost\")\n",
    "FEATURE_STORE_PORT = os.getenv(\"FEATURE_STORE_PORT\", \"5432\")\n",
    "FEATURE_STORE_PW = os.getenv(\"FEATURE_STORE_PW\")"
   ]
  },
  {
   "cell_type": "markdown",
   "metadata": {},
   "source": [
    "Make connection to database."
   ]
  },
  {
   "cell_type": "code",
   "execution_count": null,
   "metadata": {},
   "outputs": [],
   "source": [
    "DATABASE_URI = f'postgresql+psycopg2://postgres:{FEATURE_STORE_PW}@{FEATURE_STORE_HOST}:{FEATURE_STORE_PORT}/feature_store'\n",
    "engine = sa.create_engine(\n",
    "    DATABASE_URI, \n",
    "    executemany_mode='values',\n",
    "    executemany_values_page_size=10000, \n",
    "    executemany_batch_page_size=500\n",
    ")\n",
    "Base = declarative_base()"
   ]
  },
  {
   "cell_type": "code",
   "execution_count": null,
   "metadata": {},
   "outputs": [],
   "source": [
    "def recreate_database():\n",
    "    Base.metadata.drop_all(engine)\n",
    "    Base.metadata.create_all(engine)"
   ]
  },
  {
   "cell_type": "markdown",
   "metadata": {},
   "source": [
    "Create model of table to make/insert into."
   ]
  },
  {
   "cell_type": "code",
   "execution_count": null,
   "metadata": {},
   "outputs": [],
   "source": [
    "# this table model will house ALL data, with a column that specifies whether the data is\n",
    "# training, validation, or testing\n",
    "# we can select the appropriate rows of data for modeling by knowing the columns:\n",
    "# `featurize_id`: the id of the featurization run\n",
    "# `dataset_group`: training, validation, or testing\n",
    "class NaiveFreqFeats(Base):\n",
    "    __tablename__ = 'naive_frequency_features'\n",
    "    id = Column(Integer, primary_key=True)\n",
    "    featurize_id = Column(Integer)\n",
    "    file = Column(String)\n",
    "    dataset_group = Column(String)\n",
    "    added_datetime = Column(DateTime)\n",
    "    window_size = Column(Integer)\n",
    "    t_index = Column(Integer)\n",
    "    label = Column(String)\n",
    "    label_group = Column(String)\n",
    "    accel_x_0 = Column(Float)\n",
    "    accel_x_1 = Column(Float)\n",
    "    accel_x_2 = Column(Float)\n",
    "    accel_x_4 = Column(Float)\n",
    "    accel_x_5 = Column(Float)\n",
    "    accel_x_7 = Column(Float)\n",
    "    accel_x_9 = Column(Float)\n",
    "    accel_x_12 = Column(Float)\n",
    "    accel_x_16 = Column(Float)\n",
    "    accel_y_0 = Column(Float)\n",
    "    accel_y_1 = Column(Float)\n",
    "    accel_y_2 = Column(Float)\n",
    "    accel_y_3 = Column(Float)\n",
    "    accel_y_4 = Column(Float)\n",
    "    accel_y_5 = Column(Float)\n",
    "    accel_y_6 = Column(Float)\n",
    "    accel_y_7 = Column(Float)\n",
    "    accel_y_8 = Column(Float)\n",
    "    accel_y_9 = Column(Float)\n",
    "    accel_y_10 = Column(Float)\n",
    "    accel_y_11 = Column(Float)\n",
    "    accel_y_12 = Column(Float)\n",
    "    accel_z_0 = Column(Float)\n",
    "    accel_z_1 = Column(Float)\n",
    "    accel_z_2 = Column(Float)\n",
    "    accel_z_3 = Column(Float)\n",
    "    accel_z_4 = Column(Float)\n",
    "    accel_z_5 = Column(Float)\n",
    "    accel_z_8 = Column(Float)\n",
    "    accel_z_12 = Column(Float)\n",
    "    accel_z_14 = Column(Float)\n",
    "    gyro_x_0 = Column(Float)\n",
    "    gyro_x_1 = Column(Float)\n",
    "    gyro_x_2 = Column(Float)\n",
    "    gyro_x_3 = Column(Float)\n",
    "    gyro_x_4 = Column(Float)\n",
    "    gyro_x_5 = Column(Float)\n",
    "    gyro_x_6 = Column(Float)\n",
    "    gyro_x_7 = Column(Float)\n",
    "    gyro_x_8 = Column(Float)\n",
    "    gyro_x_9 = Column(Float)\n",
    "    gyro_x_10 = Column(Float)\n",
    "    gyro_x_11 = Column(Float)\n",
    "    gyro_x_12 = Column(Float)\n",
    "    gyro_x_13 = Column(Float)\n",
    "    gyro_y_0 = Column(Float)\n",
    "    gyro_y_1 = Column(Float)\n",
    "    gyro_y_2 = Column(Float)\n",
    "    gyro_y_3 = Column(Float)\n",
    "    gyro_y_4 = Column(Float)\n",
    "    gyro_y_5 = Column(Float)\n",
    "    gyro_y_6 = Column(Float)\n",
    "    gyro_y_7 = Column(Float)\n",
    "    gyro_y_8 = Column(Float)\n",
    "    gyro_y_10 = Column(Float)\n",
    "    gyro_y_11 = Column(Float)\n",
    "    gyro_z_0 = Column(Float)\n",
    "    gyro_z_1 = Column(Float)\n",
    "    gyro_z_3 = Column(Float)\n",
    "    gyro_z_4 = Column(Float)\n",
    "    gyro_z_5 = Column(Float)\n",
    "    gyro_z_8 = Column(Float)\n",
    "    gyro_z_14 = Column(Float)\n",
    "    gyro_z_17 = Column(Float)\n",
    "    gyro_z_18 = Column(Float)\n",
    "    \n",
    "    def __repr__(self):\n",
    "        return (\n",
    "            f\"<NaiveFreqFeats(featurize_id='{self.featurize_id}', file='{self.file}', \"\n",
    "            f\"dataset_group={self.dataset_group}, added_datetime={self.added_datetime}), \"\n",
    "            f\"window_size={self.window_size},  t_index={self.t_index}>\"\n",
    "        )"
   ]
  },
  {
   "cell_type": "markdown",
   "metadata": {},
   "source": [
    "Make table in database, drop previous version of database if already exists."
   ]
  },
  {
   "cell_type": "code",
   "execution_count": null,
   "metadata": {},
   "outputs": [],
   "source": [
    "# WARNING!: DO NOT RUN THIS FUNCTION IF YOU HAVE FEATURIZED DATA IN YOUR DATABASE THAT\n",
    "# YOU STILL WANT TO KEEP. THIS FUNCTION WILL DROP THE TABLE AND RECREATE AN EMPTY VERSION\n",
    "recreate_database()"
   ]
  },
  {
   "cell_type": "markdown",
   "metadata": {},
   "source": [
    "Get the feature columns by measurement for the naive_frequency_features table"
   ]
  },
  {
   "cell_type": "code",
   "execution_count": null,
   "metadata": {},
   "outputs": [],
   "source": [
    "with open(\"../../src/features/frequency_features.json\", \"r\", encoding=\"utf-8\") as infile:\n",
    "    FEATURES = json.load(infile)\n",
    "    \n",
    "cols = [\"accel_x\", \"accel_y\", \"accel_z\", \"gyro_x\", \"gyro_y\", \"gyro_z\"]\n",
    "feat_cols = [\n",
    "col + \"_\" + str(int(freq_feat)) for col in cols for freq_feat in FEATURES[col]\n",
    "]"
   ]
  },
  {
   "cell_type": "markdown",
   "metadata": {},
   "source": [
    "Insert a single row of data into the table."
   ]
  },
  {
   "cell_type": "code",
   "execution_count": null,
   "metadata": {},
   "outputs": [],
   "source": [
    "row = NaiveFreqFeats(\n",
    "    featurize_id=1,\n",
    "    file=\"testing.PARQUET\",\n",
    "    dataset_group=\"train\",\n",
    "    added_datetime=pd.to_datetime(\"now\", utc=True),\n",
    "    window_size=151,\n",
    "    t_index=1,\n",
    "    label=\"foo\",\n",
    "    label_group=\"foo group\",\n",
    "    **{\n",
    "        col: 1. for col in feat_cols\n",
    "    }\n",
    ")"
   ]
  },
  {
   "cell_type": "code",
   "execution_count": null,
   "metadata": {},
   "outputs": [],
   "source": [
    "Session = sessionmaker(bind=engine)\n",
    "\n",
    "with Session() as session:\n",
    "    session.add(row)\n",
    "    session.commit()"
   ]
  },
  {
   "cell_type": "markdown",
   "metadata": {},
   "source": [
    "Check if a particular featurize_id exists in the database"
   ]
  },
  {
   "cell_type": "code",
   "execution_count": null,
   "metadata": {},
   "outputs": [],
   "source": [
    "metadata = sa.schema.MetaData(bind=engine)\n",
    "table = sa.Table(\"naive_frequency_features\", metadata, autoload=True)\n",
    "with Session() as session:\n",
    "    featurize_ids = session.query(table.c.featurize_id).distinct().all()\n"
   ]
  },
  {
   "cell_type": "code",
   "execution_count": null,
   "metadata": {},
   "outputs": [],
   "source": [
    "id_to_search = 1\n",
    "any([r[0]==id_to_search for r in featurize_ids])"
   ]
  },
  {
   "cell_type": "markdown",
   "metadata": {},
   "source": [
    "Delete existing dataset by matching `featurize_id`."
   ]
  },
  {
   "cell_type": "code",
   "execution_count": null,
   "metadata": {},
   "outputs": [],
   "source": [
    "with Session() as session:\n",
    "    session.query(table).filter(table.c.featurize_id==1).delete()\n",
    "    session.commit()\n",
    "    # session.commit()"
   ]
  },
  {
   "cell_type": "code",
   "execution_count": null,
   "metadata": {},
   "outputs": [],
   "source": [
    "with Session() as session:\n",
    "    featurize_ids = session.query(table.c.featurize_id).distinct().all()\n",
    "featurize_ids"
   ]
  },
  {
   "cell_type": "markdown",
   "metadata": {},
   "source": [
    "Delete the test data and recreate the empty table."
   ]
  },
  {
   "cell_type": "code",
   "execution_count": null,
   "metadata": {},
   "outputs": [],
   "source": [
    "# WARNING!: DO NOT RUN THIS FUNCTION IF YOU HAVE FEATURIZED DATA IN YOUR DATABASE THAT\n",
    "# YOU STILL WANT TO KEEP. THIS FUNCTION WILL DROP THE TABLE AND RECREATE AN EMPTY VERSION\n",
    "recreate_database()"
   ]
  },
  {
   "cell_type": "markdown",
   "metadata": {},
   "source": [
    "Run a bulk insert of data into the table."
   ]
  },
  {
   "cell_type": "code",
   "execution_count": null,
   "metadata": {},
   "outputs": [],
   "source": [
    "with Session() as session:\n",
    "    for chunk in range(0, 100000, 10000):\n",
    "        session.bulk_save_objects(\n",
    "            [\n",
    "                NaiveFreqFeats(\n",
    "                    featurize_id=1,\n",
    "                    file=\"testing.PARQUET\",\n",
    "                    dataset_group=\"train\",\n",
    "                    added_datetime=pd.to_datetime(\"now\", utc=True),\n",
    "                    window_size=151,\n",
    "                    t_index=i,\n",
    "                    label=\"foo\",\n",
    "                    label_group=\"foo group\",\n",
    "                    **{\n",
    "                        col: np.random.random() for col in feat_cols\n",
    "                    }\n",
    "                )\n",
    "                for i in range(chunk, min(chunk + 10000, 100000))\n",
    "            ],\n",
    "            return_defaults=False\n",
    "        )\n",
    "    session.commit()"
   ]
  },
  {
   "cell_type": "markdown",
   "metadata": {},
   "source": [
    "Delete the test data and recreate the empty table."
   ]
  },
  {
   "cell_type": "code",
   "execution_count": null,
   "metadata": {},
   "outputs": [],
   "source": [
    "# WARNING!: DO NOT RUN THIS FUNCTION IF YOU HAVE FEATURIZED DATA IN YOUR DATABASE THAT\n",
    "# YOU STILL WANT TO KEEP. THIS FUNCTION WILL DROP THE TABLE AND RECREATE AN EMPTY VERSION\n",
    "recreate_database()"
   ]
  },
  {
   "cell_type": "markdown",
   "metadata": {},
   "source": [
    "Try bulk insert with data from a pandas dataframe."
   ]
  },
  {
   "cell_type": "code",
   "execution_count": null,
   "metadata": {},
   "outputs": [],
   "source": [
    "metadata = sa.schema.MetaData(bind=engine)\n",
    "table = sa.Table(\"naive_frequency_features\", metadata, autoload=True)\n",
    "\n",
    "data = dict(\n",
    "    featurize_id=[1 for _ in range(10000)],\n",
    "    file=[\"testing.PARQUET\" for _ in range(10000)],\n",
    "    dataset_group=[\"train\" for _ in range(10000)],\n",
    "    added_datetime=[pd.to_datetime(\"now\", utc=True) for _ in range(10000)],\n",
    "    window_size=[151  for _ in range(10000)],\n",
    "    t_index=[_  for _ in range(10000)],\n",
    "    label=[\"foo\" for _ in range(10000)],\n",
    "    label_group=[\"foo group\" for _ in range(10000)],\n",
    "    **{\n",
    "        col: [np.random.random() for _ in range(10000)] for col in feat_cols\n",
    "    }\n",
    ")\n",
    "df = pd.DataFrame(data=data)\n",
    "records = df.to_dict(orient=\"records\")\n",
    "\n",
    "with Session() as session:\n",
    "    session.execute(table.insert(), records)\n",
    "    session.commit()"
   ]
  },
  {
   "cell_type": "markdown",
   "metadata": {},
   "source": [
    "Delete the test data and recreate the empty table."
   ]
  },
  {
   "cell_type": "code",
   "execution_count": null,
   "metadata": {},
   "outputs": [],
   "source": [
    "# WARNING!: DO NOT RUN THIS FUNCTION IF YOU HAVE FEATURIZED DATA IN YOUR DATABASE THAT\n",
    "# YOU STILL WANT TO KEEP. THIS FUNCTION WILL DROP THE TABLE AND RECREATE AN EMPTY VERSION\n",
    "recreate_database()"
   ]
  },
  {
   "cell_type": "code",
   "execution_count": null,
   "metadata": {},
   "outputs": [],
   "source": []
  }
 ],
 "metadata": {
  "kernelspec": {
   "display_name": "Python 3.10.5 ('exercise_prediction')",
   "language": "python",
   "name": "python3"
  },
  "language_info": {
   "codemirror_mode": {
    "name": "ipython",
    "version": 3
   },
   "file_extension": ".py",
   "mimetype": "text/x-python",
   "name": "python",
   "nbconvert_exporter": "python",
   "pygments_lexer": "ipython3",
   "version": "3.10.5"
  },
  "vscode": {
   "interpreter": {
    "hash": "522e0368149a961a2163f3aa160fd5d8e8d20ce41d872e9b76d36f2d83de0577"
   }
  }
 },
 "nbformat": 4,
 "nbformat_minor": 2
}
