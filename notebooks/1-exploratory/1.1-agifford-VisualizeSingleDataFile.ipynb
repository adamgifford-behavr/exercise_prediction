{
 "cells": [
  {
   "cell_type": "markdown",
   "metadata": {},
   "source": [
    "# 1.1-agifford-VisualizeSingleDataFile\n",
    "This notebook tests out visualizing samples of data aligned to physical actiity starts and ends, and templates a set of functions to reproduce a visualization for any dataframe and any time period."
   ]
  },
  {
   "cell_type": "code",
   "execution_count": null,
   "metadata": {},
   "outputs": [],
   "source": [
    "import pandas as pd\n",
    "import plotly.express as px\n",
    "\n",
    "parq_file = \"../../data/interim/raw/fileID1_subjID3_dataID0.parquet\"\n",
    "df = pd.read_parquet(parq_file, engine=\"fastparquet\")"
   ]
  },
  {
   "cell_type": "code",
   "execution_count": null,
   "metadata": {},
   "outputs": [],
   "source": [
    "df.head()"
   ]
  },
  {
   "cell_type": "code",
   "execution_count": null,
   "metadata": {},
   "outputs": [],
   "source": [
    "df_ = df[(df.time > 400) & (df.time <= 500)]\n",
    "activity_starts_df = df_[df_.label != df_.label.shift(1)]\n",
    "activity_ends_df = df_[df_.label != df_.label.shift(-1)]\n",
    "\n",
    "activity_starts_df = activity_starts_df.dropna(subset=\"label\")\n",
    "activity_ends_df = activity_ends_df.dropna(subset=\"label\")"
   ]
  },
  {
   "cell_type": "code",
   "execution_count": null,
   "metadata": {},
   "outputs": [],
   "source": [
    "blue = [\"blue\" for _ in df_]\n",
    "green = [\"green\" for _ in df_]\n",
    "red = [\"red\" for _ in df_]\n",
    "fig = px.line(\n",
    "    df_, \n",
    "    x=\"time\", \n",
    "    y=\"accel_x\", \n",
    "    color_discrete_sequence=blue, \n",
    "    title=\"Acceleration Traces Sample\"\n",
    ")\n",
    "fig.add_traces(list(\n",
    "    px.line(\n",
    "        df_, \n",
    "        x=\"time\", \n",
    "        y=\"accel_y\", \n",
    "        color_discrete_sequence=green\n",
    "    ).select_traces()\n",
    "))\n",
    "fig.add_traces(list(\n",
    "    px.line(\n",
    "        df_, \n",
    "        x=\"time\", \n",
    "        y=\"accel_z\", \n",
    "        color_discrete_sequence=red\n",
    "    ).select_traces()\n",
    "))\n",
    "\n",
    "for x in activity_starts_df.index:\n",
    "    fig.add_vline(\n",
    "        x=activity_starts_df.loc[x, \"time\"], \n",
    "        annotation_text=activity_starts_df.loc[x, \"label\"]\n",
    "    )\n",
    "for x in activity_ends_df.index:\n",
    "    fig.add_vline(\n",
    "        x=activity_ends_df.loc[x, \"time\"], line_dash=\"dash\",\n",
    "    )\n",
    "    \n",
    "fig.update_layout(xaxis_range=[398,502])\n",
    "for d, name in zip(fig.data, [\"accel_x\", \"accel_y\", \"accel_z\"]):\n",
    "    d[\"showlegend\"] = True\n",
    "    d[\"name\"] = name\n",
    "\n",
    "fig.update_yaxes(title_text=\"Acceleration\")\n",
    "fig.show()"
   ]
  },
  {
   "cell_type": "code",
   "execution_count": null,
   "metadata": {},
   "outputs": [],
   "source": [
    "df_mlt_accl = df_.melt(id_vars=[\"time\"], value_vars=[\"accel_x\", \"accel_y\", \"accel_z\"])\n",
    "df_mlt_accl[\"measure\"] = \"acceleration\"\n",
    "df_mlt_gryo = df_.melt(id_vars=[\"time\"], value_vars=[\"gyro_x\", \"gyro_y\", \"gyro_z\"])\n",
    "df_mlt_gryo[\"measure\"] = \"gryoscope\"\n",
    "df_melt = pd.concat([df_mlt_accl, df_mlt_gryo], ignore_index=True)\n",
    "\n",
    "fig = px.line(\n",
    "    df_melt, \n",
    "    x=\"time\", \n",
    "    y=\"value\", \n",
    "    color=\"variable\", \n",
    "    facet_col=\"measure\", \n",
    "    title=\"Acceleration Traces Sample\", \n",
    "    facet_col_spacing=0.05\n",
    ")\n",
    "\n",
    "for x in activity_starts_df.index:\n",
    "    fig.add_vline(\n",
    "        x=activity_starts_df.loc[x, \"time\"], \n",
    "        annotation_text=activity_starts_df.loc[x, \"label\"]\n",
    "    )\n",
    "for x in activity_ends_df.index:\n",
    "    fig.add_vline(\n",
    "        x=activity_ends_df.loc[x, \"time\"], line_dash=\"dash\",\n",
    "    )\n",
    "\n",
    "fig.update_yaxes(matches=None)\n",
    "fig.for_each_yaxis(lambda yaxis: yaxis.update(showticklabels=True))\n",
    "fig.for_each_xaxis(lambda xaxis: xaxis.update(range=[398, 502]))\n",
    "fig.show()"
   ]
  },
  {
   "cell_type": "code",
   "execution_count": null,
   "metadata": {},
   "outputs": [],
   "source": [
    "def _make_single_annot_frame(df, shift):\n",
    "    annot_df = df[df.label != df.label.shift(shift)]\n",
    "    annot_df = annot_df.dropna(subset=\"label\")\n",
    "    return annot_df\n",
    "\n",
    "def make_annot_dataframe(df, t_start=None, t_end=None):\n",
    "    t_start = df.time.min() or t_start\n",
    "    t_end = df.time.max() or t_end\n",
    "    \n",
    "    df = df[(df.time > t_start) & (df.time <= t_end)].copy()\n",
    "    \n",
    "    (act_starts_df, act_ends_df) = (\n",
    "        _make_single_annot_frame(df, shift) for shift in [1, -1]\n",
    "    )\n",
    "    return act_starts_df, act_ends_df\n",
    "\n",
    "def _melt_single_frame(df, meas):\n",
    "    x, y, z = (meas + i for i in [\"_x\", \"_y\", \"_z\"])\n",
    "    df_melted = df.melt(id_vars=[\"time\"], value_vars=[x, y, z])\n",
    "    \n",
    "    measure = \"acceleration\" if \"accel\" in meas else \"gyroscope\"\n",
    "    df_melted[\"measure\"] = measure\n",
    "    return df_melted\n",
    "\n",
    "def _melt_dataframe(df):\n",
    "    (df_mlt_accl, df_mlt_gryo) = (\n",
    "        _melt_single_frame(df, meas) for meas in [\"accel\", \"gyro\"]\n",
    "    )\n",
    "    df_melted = pd.concat([df_mlt_accl, df_mlt_gryo], ignore_index=True)\n",
    "    return df_melted\n",
    "\n",
    "def make_annotated_trace(df, t_start, t_end):\n",
    "    \n",
    "    activity_starts_df, activity_ends_df = make_annot_dataframe(df, t_start, t_end)\n",
    "    df_melted = _melt_dataframe(df)\n",
    "    fig = px.line(\n",
    "        df_melted, \n",
    "        x=\"time\", \n",
    "        y=\"value\", \n",
    "        color=\"variable\", \n",
    "        facet_col=\"measure\", \n",
    "        title=\"Data Traces Sample\", \n",
    "        facet_col_spacing=0.05, \n",
    "        width=1000, \n",
    "        height=400\n",
    "    )\n",
    "\n",
    "    for x in activity_starts_df.index:\n",
    "        fig.add_vline(\n",
    "            x=activity_starts_df.loc[x, \"time\"], \n",
    "            annotation_text=activity_starts_df.loc[x, \"label\"]\n",
    "        )\n",
    "    for x in activity_ends_df.index:\n",
    "        fig.add_vline(\n",
    "            x=activity_ends_df.loc[x, \"time\"], line_dash=\"dash\",\n",
    "        )\n",
    "\n",
    "    fig.update_yaxes(matches=None)\n",
    "    fig.for_each_yaxis(lambda yaxis: yaxis.update(showticklabels=True))\n",
    "    x_min = t_start - 0.005*t_start\n",
    "    x_max = t_end + (0.005* 0.99)*t_end\n",
    "    fig.for_each_xaxis(lambda xaxis: xaxis.update(range=[x_min, x_max]))\n",
    "    return fig"
   ]
  },
  {
   "cell_type": "code",
   "execution_count": null,
   "metadata": {},
   "outputs": [],
   "source": [
    "fig = make_annotated_trace(df, t_start=400, t_end=600)\n",
    "fig.show()"
   ]
  },
  {
   "cell_type": "code",
   "execution_count": null,
   "metadata": {},
   "outputs": [],
   "source": []
  }
 ],
 "metadata": {
  "kernelspec": {
   "display_name": "Python 3.10.5 ('exercise_prediction')",
   "language": "python",
   "name": "python3"
  },
  "language_info": {
   "codemirror_mode": {
    "name": "ipython",
    "version": 3
   },
   "file_extension": ".py",
   "mimetype": "text/x-python",
   "name": "python",
   "nbconvert_exporter": "python",
   "pygments_lexer": "ipython3",
   "version": "3.10.5"
  },
  "vscode": {
   "interpreter": {
    "hash": "522e0368149a961a2163f3aa160fd5d8e8d20ce41d872e9b76d36f2d83de0577"
   }
  }
 },
 "nbformat": 4,
 "nbformat_minor": 2
}
