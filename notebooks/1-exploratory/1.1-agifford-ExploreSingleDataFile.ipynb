{
 "cells": [
  {
   "cell_type": "code",
   "execution_count": null,
   "metadata": {},
   "outputs": [],
   "source": [
    "import pandas as pd\n",
    "import plotly.express as px\n",
    "\n",
    "parq_file = \"../../data/interim/raw/fileID1_subjID3_dataID0.parquet\"\n",
    "df = pd.read_parquet(parq_file, engine=\"fastparquet\")"
   ]
  },
  {
   "cell_type": "code",
   "execution_count": null,
   "metadata": {},
   "outputs": [],
   "source": [
    "df.head()"
   ]
  },
  {
   "cell_type": "code",
   "execution_count": null,
   "metadata": {},
   "outputs": [],
   "source": [
    "df_ = df[(df.time > 400) & (df.time <= 500)]\n",
    "activity_starts_df = df_[df_.label != df_.label.shift(1)]\n",
    "activity_ends_df = df_[df_.label != df_.label.shift(-1)]\n"
   ]
  },
  {
   "cell_type": "code",
   "execution_count": null,
   "metadata": {},
   "outputs": [],
   "source": [
    "blue = [\"blue\" for _ in df_]\n",
    "green = [\"green\" for _ in df_]\n",
    "red = [\"red\" for _ in df_]\n",
    "fig = px.line(df_, x=\"time\", y=\"accel_x\", color_discrete_sequence=blue)\n",
    "fig.add_traces(list(px.line(df_, x=\"time\", y=\"accel_y\", color_discrete_sequence=green).select_traces()))\n",
    "fig.add_traces(list(px.line(df_, x=\"time\", y=\"accel_z\", color_discrete_sequence=red).select_traces()))\n",
    "fig.show()"
   ]
  },
  {
   "cell_type": "code",
   "execution_count": null,
   "metadata": {},
   "outputs": [],
   "source": [
    "df_.label.unique()"
   ]
  },
  {
   "cell_type": "code",
   "execution_count": null,
   "metadata": {},
   "outputs": [],
   "source": [
    "df__ = df_[df_.label != df_.label.shift(-1)]\n",
    "df__"
   ]
  },
  {
   "cell_type": "code",
   "execution_count": null,
   "metadata": {},
   "outputs": [],
   "source": [
    "df__2 = df_[df_.label != df_.label.shift(1)]\n",
    "df__2"
   ]
  },
  {
   "cell_type": "code",
   "execution_count": null,
   "metadata": {},
   "outputs": [],
   "source": [
    "df_.loc[23781:25000, :].label.unique()"
   ]
  },
  {
   "cell_type": "code",
   "execution_count": null,
   "metadata": {},
   "outputs": [],
   "source": []
  }
 ],
 "metadata": {
  "kernelspec": {
   "display_name": "Python 3.10.5 ('exercise_prediction')",
   "language": "python",
   "name": "python3"
  },
  "language_info": {
   "codemirror_mode": {
    "name": "ipython",
    "version": 3
   },
   "file_extension": ".py",
   "mimetype": "text/x-python",
   "name": "python",
   "nbconvert_exporter": "python",
   "pygments_lexer": "ipython3",
   "version": "3.10.5"
  },
  "vscode": {
   "interpreter": {
    "hash": "0bc9e17ecfe5fe569855cd568414bc1d32da1f1775abbcdcf2e86e1b237526b1"
   }
  }
 },
 "nbformat": 4,
 "nbformat_minor": 2
}
