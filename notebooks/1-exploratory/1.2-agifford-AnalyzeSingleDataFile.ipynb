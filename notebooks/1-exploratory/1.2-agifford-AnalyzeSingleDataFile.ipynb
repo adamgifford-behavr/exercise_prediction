{
 "cells": [
  {
   "cell_type": "markdown",
   "metadata": {},
   "source": [
    "# 1.2-agifford-AnalyzeSingleDataFile\n",
    "This notebook performs exploratory data analysis on an example datafile."
   ]
  },
  {
   "cell_type": "code",
   "execution_count": 14,
   "metadata": {},
   "outputs": [
    {
     "ename": "ModuleNotFoundError",
     "evalue": "No module named 'matplotlib'",
     "output_type": "error",
     "traceback": [
      "\u001b[0;31m---------------------------------------------------------------------------\u001b[0m",
      "\u001b[0;31mModuleNotFoundError\u001b[0m                       Traceback (most recent call last)",
      "\u001b[1;32m/Users/adamgifford/Documents/DataScience/MyProjects/exercise_prediction/notebooks/1-exploratory/1.2-agifford-AnalyzeSingleDataFile.ipynb Cell 2\u001b[0m in \u001b[0;36m<cell line: 2>\u001b[0;34m()\u001b[0m\n\u001b[1;32m      <a href='vscode-notebook-cell:/Users/adamgifford/Documents/DataScience/MyProjects/exercise_prediction/notebooks/1-exploratory/1.2-agifford-AnalyzeSingleDataFile.ipynb#W1sZmlsZQ%3D%3D?line=0'>1</a>\u001b[0m \u001b[39mimport\u001b[39;00m \u001b[39mpandas\u001b[39;00m \u001b[39mas\u001b[39;00m \u001b[39mpd\u001b[39;00m\n\u001b[0;32m----> <a href='vscode-notebook-cell:/Users/adamgifford/Documents/DataScience/MyProjects/exercise_prediction/notebooks/1-exploratory/1.2-agifford-AnalyzeSingleDataFile.ipynb#W1sZmlsZQ%3D%3D?line=1'>2</a>\u001b[0m \u001b[39mimport\u001b[39;00m \u001b[39mmatplotlib\u001b[39;00m\u001b[39m.\u001b[39;00m\u001b[39mpyplot\u001b[39;00m \u001b[39mas\u001b[39;00m \u001b[39mplt\u001b[39;00m\n\u001b[1;32m      <a href='vscode-notebook-cell:/Users/adamgifford/Documents/DataScience/MyProjects/exercise_prediction/notebooks/1-exploratory/1.2-agifford-AnalyzeSingleDataFile.ipynb#W1sZmlsZQ%3D%3D?line=2'>3</a>\u001b[0m \u001b[39mimport\u001b[39;00m \u001b[39mplotly\u001b[39;00m\u001b[39m.\u001b[39;00m\u001b[39mexpress\u001b[39;00m \u001b[39mas\u001b[39;00m \u001b[39mpx\u001b[39;00m\n\u001b[1;32m      <a href='vscode-notebook-cell:/Users/adamgifford/Documents/DataScience/MyProjects/exercise_prediction/notebooks/1-exploratory/1.2-agifford-AnalyzeSingleDataFile.ipynb#W1sZmlsZQ%3D%3D?line=3'>4</a>\u001b[0m \u001b[39mimport\u001b[39;00m \u001b[39mnumpy\u001b[39;00m \u001b[39mas\u001b[39;00m \u001b[39mnp\u001b[39;00m\n",
      "\u001b[0;31mModuleNotFoundError\u001b[0m: No module named 'matplotlib'"
     ]
    }
   ],
   "source": [
    "import pandas as pd\n",
    "import matplotlib.pyplot as plt\n",
    "import plotly.express as px\n",
    "import numpy as np\n",
    "\n",
    "parq_file = \"../../data/interim/raw/fileID1_subjID3_dataID0.parquet\"\n",
    "df = pd.read_parquet(parq_file, engine=\"fastparquet\")"
   ]
  },
  {
   "cell_type": "raw",
   "metadata": {},
   "source": [
    "conda install -c conda-forge matplotlib\n",
    "conda install -c anaconda seaborn"
   ]
  },
  {
   "cell_type": "code",
   "execution_count": 2,
   "metadata": {},
   "outputs": [],
   "source": [
    "def _make_single_annot_frame(df, shift):\n",
    "    annot_df = df[df.label != df.label.shift(shift)]\n",
    "    annot_df = annot_df.dropna(subset=\"label\")\n",
    "    return annot_df\n",
    "\n",
    "def make_annot_dataframe(df, t_start=None, t_end=None):\n",
    "    t_start = t_start or df.time.min()\n",
    "    t_end = t_end or df.time.max()\n",
    "    \n",
    "    df = df[(df.time >= t_start) & (df.time <= t_end)].copy()\n",
    "    \n",
    "    (act_starts_df, act_ends_df) = (\n",
    "        _make_single_annot_frame(df, shift) for shift in [1, -1]\n",
    "    )\n",
    "    return act_starts_df, act_ends_df"
   ]
  },
  {
   "cell_type": "code",
   "execution_count": 3,
   "metadata": {},
   "outputs": [],
   "source": [
    "# not sure I'll need the starts & ends df, but probably should remove the rows with no \n",
    "# activity labels\n",
    "activity_starts_df, activity_ends_df = make_annot_dataframe(df)\n",
    "df_dropna =  df.dropna(subset=\"label\")"
   ]
  },
  {
   "cell_type": "code",
   "execution_count": 4,
   "metadata": {},
   "outputs": [
    {
     "data": {
      "text/plain": [
       "((127959, 12), (127927, 12))"
      ]
     },
     "execution_count": 4,
     "metadata": {},
     "output_type": "execute_result"
    }
   ],
   "source": [
    "df.shape, df_dropna.shape"
   ]
  },
  {
   "cell_type": "code",
   "execution_count": 5,
   "metadata": {},
   "outputs": [
    {
     "data": {
      "text/plain": [
       "Index(['time', 'file_id', 'subject_id', 'data_id', 'accel_x', 'accel_y',\n",
       "       'accel_z', 'gyro_x', 'gyro_y', 'gyro_z', 'label', 'label_group'],\n",
       "      dtype='object')"
      ]
     },
     "execution_count": 5,
     "metadata": {},
     "output_type": "execute_result"
    }
   ],
   "source": [
    "df.columns"
   ]
  },
  {
   "cell_type": "code",
   "execution_count": 10,
   "metadata": {},
   "outputs": [
    {
     "data": {
      "text/plain": [
       "array(['<Initial Activity>', 'Tap Left Device', 'Tap Right Device',\n",
       "       'Non-Exercise', 'Jumping Jacks', 'Plank', 'Squat Jump', 'Sit-ups',\n",
       "       'Dumbbell Deadlift Row', 'Side Plank Right side',\n",
       "       'Side Plank Left side', 'Bicep Curl', 'Pushups', 'Walking lunge',\n",
       "       'Power Boat pose', 'Squat', 'Walk'], dtype=object)"
      ]
     },
     "execution_count": 10,
     "metadata": {},
     "output_type": "execute_result"
    }
   ],
   "source": [
    "df_dropna.label.unique()"
   ]
  },
  {
   "cell_type": "code",
   "execution_count": 8,
   "metadata": {},
   "outputs": [
    {
     "data": {
      "text/plain": [
       "array(['Junk', 'Non-exercise', 'Legacy activity', 'Static exercise',\n",
       "       'Repetitive exercise', 'Repetitive non-arm exercise', 'Walk'],\n",
       "      dtype=object)"
      ]
     },
     "execution_count": 8,
     "metadata": {},
     "output_type": "execute_result"
    }
   ],
   "source": [
    "df_dropna.label_group.unique()"
   ]
  },
  {
   "cell_type": "markdown",
   "metadata": {},
   "source": [
    "For the sake of getting through this project end-to-end, I will not spend too much time on building a very sophisticated model. As such, I will use the column `label_group` as my desired prediction column.\n",
    "\n",
    "Process for each `label_group`:\n",
    "1. Compute FFT with a hamming window for each instance of the `label_group`\n",
    "2. Average the FFTs across instances\n",
    "3. Identify the major frequencies of the group by setting some arbitrary threshold to identify peaks.\n",
    "4. I will use those frequencies to generate `sin` and `cos` features as inputs to a basic model to predict `label_group`.\n",
    "5. Repeat steps 1-4 for each variable x direction combination (e.g., \"accel_x\", \"accel_y\", etc.)\n",
    "\n",
    "First, let's template out the process of analyzing a single instance of a single `label_group`."
   ]
  },
  {
   "cell_type": "code",
   "execution_count": 13,
   "metadata": {},
   "outputs": [
    {
     "data": {
      "text/html": [
       "<div>\n",
       "<style scoped>\n",
       "    .dataframe tbody tr th:only-of-type {\n",
       "        vertical-align: middle;\n",
       "    }\n",
       "\n",
       "    .dataframe tbody tr th {\n",
       "        vertical-align: top;\n",
       "    }\n",
       "\n",
       "    .dataframe thead th {\n",
       "        text-align: right;\n",
       "    }\n",
       "</style>\n",
       "<table border=\"1\" class=\"dataframe\">\n",
       "  <thead>\n",
       "    <tr style=\"text-align: right;\">\n",
       "      <th></th>\n",
       "      <th>time</th>\n",
       "      <th>file_id</th>\n",
       "      <th>subject_id</th>\n",
       "      <th>data_id</th>\n",
       "      <th>accel_x</th>\n",
       "      <th>accel_y</th>\n",
       "      <th>accel_z</th>\n",
       "      <th>gyro_x</th>\n",
       "      <th>gyro_y</th>\n",
       "      <th>gyro_z</th>\n",
       "      <th>label</th>\n",
       "      <th>label_group</th>\n",
       "    </tr>\n",
       "  </thead>\n",
       "  <tbody>\n",
       "    <tr>\n",
       "      <th>0</th>\n",
       "      <td>0.000000</td>\n",
       "      <td>1</td>\n",
       "      <td>3</td>\n",
       "      <td>0</td>\n",
       "      <td>-1.053396</td>\n",
       "      <td>-0.240851</td>\n",
       "      <td>0.007644</td>\n",
       "      <td>-6.320330</td>\n",
       "      <td>-38.337973</td>\n",
       "      <td>-16.067351</td>\n",
       "      <td>&lt;Initial Activity&gt;</td>\n",
       "      <td>Junk</td>\n",
       "    </tr>\n",
       "    <tr>\n",
       "      <th>1</th>\n",
       "      <td>102.999759</td>\n",
       "      <td>1</td>\n",
       "      <td>3</td>\n",
       "      <td>0</td>\n",
       "      <td>0.069121</td>\n",
       "      <td>-0.901886</td>\n",
       "      <td>0.737462</td>\n",
       "      <td>0.569303</td>\n",
       "      <td>60.823368</td>\n",
       "      <td>98.224509</td>\n",
       "      <td>&lt;Initial Activity&gt;</td>\n",
       "      <td>Junk</td>\n",
       "    </tr>\n",
       "  </tbody>\n",
       "</table>\n",
       "</div>"
      ],
      "text/plain": [
       "         time  file_id  subject_id  data_id   accel_x   accel_y   accel_z  \\\n",
       "0    0.000000        1           3        0 -1.053396 -0.240851  0.007644   \n",
       "1  102.999759        1           3        0  0.069121 -0.901886  0.737462   \n",
       "\n",
       "     gyro_x     gyro_y     gyro_z               label label_group  \n",
       "0 -6.320330 -38.337973 -16.067351  <Initial Activity>        Junk  \n",
       "1  0.569303  60.823368  98.224509  <Initial Activity>        Junk  "
      ]
     },
     "execution_count": 13,
     "metadata": {},
     "output_type": "execute_result"
    }
   ],
   "source": [
    "pd.concat([activity_starts_df.head(1), activity_ends_df.head(1)], ignore_index=True)"
   ]
  },
  {
   "cell_type": "code",
   "execution_count": null,
   "metadata": {},
   "outputs": [],
   "source": []
  }
 ],
 "metadata": {
  "kernelspec": {
   "display_name": "Python 3.10.5 ('exercise_prediction')",
   "language": "python",
   "name": "python3"
  },
  "language_info": {
   "codemirror_mode": {
    "name": "ipython",
    "version": 3
   },
   "file_extension": ".py",
   "mimetype": "text/x-python",
   "name": "python",
   "nbconvert_exporter": "python",
   "pygments_lexer": "ipython3",
   "version": "3.10.5"
  },
  "orig_nbformat": 4,
  "vscode": {
   "interpreter": {
    "hash": "522e0368149a961a2163f3aa160fd5d8e8d20ce41d872e9b76d36f2d83de0577"
   }
  }
 },
 "nbformat": 4,
 "nbformat_minor": 2
}
